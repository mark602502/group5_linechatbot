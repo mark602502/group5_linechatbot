{
 "cells": [
  {
   "cell_type": "code",
   "execution_count": 4,
   "metadata": {},
   "outputs": [
    {
     "name": "stdout",
     "output_type": "stream",
     "text": [
      "True\n"
     ]
    }
   ],
   "source": [
    "import mysql.connector\n",
    "import time\n",
    "config_sql = project_db_config = {\n",
    "        'host': '10.120.28.11',\n",
    "        'port': 3306,\n",
    "        'database': 'project_product',\n",
    "        'user': 'root',\n",
    "        'password': 'root',\n",
    "        'charset': 'utf8'\n",
    "    }\n",
    "\n",
    "def update_inventory_transaction(config, data):\n",
    "    inventory_colname = 'num'\n",
    "    table_name = 'product'\n",
    "    db=None\n",
    "    cursor=None\n",
    "    try:\n",
    "        db = mysql.connector.Connect(**config, auth_plugin= 'mysql_native_password')\n",
    "        cursor = db.cursor()\n",
    "        db.autocommit = False\n",
    "        db.start_transaction()\n",
    "        #UPDATE \"表格名\" SET \"欄位1\" = [新值] WHERE \"條件\" ;\n",
    "        for pid in set(data):\n",
    "            if data.count(pid) > 1:\n",
    "                stmt_update_many = 'UPDATE {} SET {} = {} - {} WHERE name = \"{}\" ;'.format(table_name,\n",
    "                                                                                          inventory_colname,\n",
    "                                                                                          inventory_colname,\n",
    "                                                                                          data.count(pid),\n",
    "                                                                                          pid)\n",
    "                cursor.execute(stmt_update_many)\n",
    "                # set(data).remove(pid)\n",
    "            else:\n",
    "                stmt_update_one = 'UPDATE {} SET {} = {} - 1 WHERE name = \"{}\" ;'.format(table_name,\n",
    "                                                                                        inventory_colname,\n",
    "                                                                                        inventory_colname,\n",
    "                                                                                        pid)\n",
    "                cursor.execute(stmt_update_one)\n",
    "                # time.sleep(10)\n",
    "        db.commit()\n",
    "        return True\n",
    "    except mysql.connector.Error as a:\n",
    "        db.rollback()\n",
    "        return a\n",
    "    finally:\n",
    "        db.close()\n",
    "        cursor.close()\n",
    "ex_data = [\"番茄\",\"小黃瓜\",\"紅蘿 蔔\"]\n",
    "result_output = update_inventory_transaction(config_sql, ex_data)\n",
    "print(result_output)"
   ]
  },
  {
   "cell_type": "code",
   "execution_count": 3,
   "metadata": {},
   "outputs": [
    {
     "name": "stdout",
     "output_type": "stream",
     "text": [
      "(1, '起士', 45, 17)\n",
      "(2, '蛋', 45, 17)\n",
      "(3, '香菇', 45, 17)\n",
      "(4, '豆腐', 45, 30)\n",
      "(5, '紅蘿 蔔', 45, 30)\n",
      "(6, '小黃瓜', 45, 30)\n",
      "(7, '番茄', 45, 30)\n"
     ]
    }
   ],
   "source": [
    "import mysql\n",
    "import time\n",
    "config_sql= {\n",
    "        'host': '10.120.28.11',\n",
    "        'port': 3306,\n",
    "        'database': 'project_product',\n",
    "        'user': 'root',\n",
    "        'password': 'root',\n",
    "        'charset': 'utf8'\n",
    "        \n",
    "    }\n",
    "\n",
    "db=None\n",
    "cursor=None\n",
    "# inventory_colname = 'inventory'\n",
    "# table_name = 'names'\n",
    "# try:\n",
    "db = mysql.connector.Connect(**config_sql,auth_plugin= 'mysql_native_password')\n",
    "cursor = db.cursor()\n",
    "db.autocommit = False\n",
    "\n",
    "stmt_update_many = 'select * from product ;'\n",
    "cursor.execute(stmt_update_many)\n",
    "# db.commit()\n",
    "for i in  cursor:\n",
    "    print(i)\n",
    "# except mysql.connector.Error:\n",
    "#     db.rollback()\n",
    "\n",
    "# finally:\n",
    "#     cursor.close()\n",
    "#     db.close()\n"
   ]
  },
  {
   "cell_type": "code",
   "execution_count": null,
   "metadata": {},
   "outputs": [],
   "source": []
  }
 ],
 "metadata": {
  "kernelspec": {
   "display_name": "Python 3",
   "language": "python",
   "name": "python3"
  },
  "language_info": {
   "codemirror_mode": {
    "name": "ipython",
    "version": 3
   },
   "file_extension": ".py",
   "mimetype": "text/x-python",
   "name": "python",
   "nbconvert_exporter": "python",
   "pygments_lexer": "ipython3",
   "version": "3.7.3"
  }
 },
 "nbformat": 4,
 "nbformat_minor": 2
}
