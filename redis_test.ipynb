{
 "cells": [
  {
   "cell_type": "code",
   "execution_count": 3,
   "metadata": {},
   "outputs": [
    {
     "name": "stdout",
     "output_type": "stream",
     "text": [
      "b'789'\n"
     ]
    }
   ],
   "source": [
    "import redis\n",
    "def redis_get_product():\n",
    "    r = redis.StrictRedis(host='10.120.28.227', port=6379, db=0)\n",
    "    test = r.lindex(\"face\",2)\n",
    "    print(test)\n",
    "    #product = json.loads(str(r.get('product'), encoding=\"utf-8\"))\n",
    "redis_get_product()"
   ]
  }
 ],
 "metadata": {
  "kernelspec": {
   "display_name": "Python 3",
   "language": "python",
   "name": "python3"
  },
  "language_info": {
   "codemirror_mode": {
    "name": "ipython",
    "version": 3
   },
   "file_extension": ".py",
   "mimetype": "text/x-python",
   "name": "python",
   "nbconvert_exporter": "python",
   "pygments_lexer": "ipython3",
   "version": "3.7.3"
  }
 },
 "nbformat": 4,
 "nbformat_minor": 2
}
