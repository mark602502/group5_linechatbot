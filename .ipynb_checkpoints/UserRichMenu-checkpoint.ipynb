{
 "cells": [
  {
   "cell_type": "code",
   "execution_count": null,
   "metadata": {},
   "outputs": [],
   "source": [
    "'''\n",
    "\n",
    "用戶菜單功能介紹\n",
    "\n",
    "    用戶能透過點擊菜單，進行我方希冀之業務功能。\n",
    "    \n",
    "流程\n",
    "    準備菜單的圖面設定檔\n",
    "    讀取安全設定檔上的參數\n",
    "    將菜單設定檔傳給Line\n",
    "    對Line上傳菜單照片\n",
    "    檢視現有的菜單\n",
    "    將菜單與用戶做綁定\n",
    "    將菜單與用戶解除綁定\n",
    "    刪除菜單\n",
    "\n",
    "'''"
   ]
  },
  {
   "cell_type": "code",
   "execution_count": 1,
   "metadata": {},
   "outputs": [],
   "source": [
    "'''\n",
    "菜單設定檔\n",
    "\n",
    "    設定圖面大小、按鍵名與功能\n",
    "    \n",
    "'''\n",
    "\n",
    "menuRawData=\"\"\"\n",
    "{\n",
    "  \"size\": {\n",
    "    \"width\": 2500,\n",
    "    \"height\": 1686\n",
    "  },\n",
    "  \"selected\": true,\n",
    "  \"name\": \"進行結帳......\",\n",
    "  \"chatBarText\": \"Paid program\",\n",
    "  \"areas\": [\n",
    "    {\n",
    "      \"bounds\": {\n",
    "        \"x\": 15,\n",
    "        \"y\": 15,\n",
    "        \"width\": 2470,\n",
    "        \"height\": 1650\n",
    "      },\n",
    "      \"action\": {\n",
    "        \"type\": \"postback\",\n",
    "        \"text\": \"[::Mart:]進行結帳......\",\n",
    "        \"data\": \"result_ready\"\n",
    "      }\n",
    "    }\n",
    "  ]\n",
    "}\n",
    "\"\"\""
   ]
  },
  {
   "cell_type": "code",
   "execution_count": 2,
   "metadata": {},
   "outputs": [
    {
     "name": "stdout",
     "output_type": "stream",
     "text": [
      "bpLaWwAPWJOEb8CDtSWyjD8Ptq5oj6x4sa/+KqqTbKEFU4q4iGvPUgfciddD9feO2xn4NC7naQheUvGyIAafuJhSC1leUeDgWuMczsYtpIfQXYHi3+C50TS+tD6FOlWM5QKfVrtdnOwPU/ZU/dl2HAdB04t89/1O/w1cDnyilFU=\n",
      "2bfb388665c7c6b59494f7aa391101a8\n",
      "U32bfc6f1f273d45da9cb98a174754e75\n"
     ]
    }
   ],
   "source": [
    "'''\n",
    "\n",
    "讀取安全檔案內的字串，以供後續程式碼調用\n",
    "\n",
    "'''\n",
    "import json\n",
    "secretFileContentJson=json.load(open(\"line_secret_key\",'r'))\n",
    "\n",
    "print(secretFileContentJson.get(\"channel_access_token\"))\n",
    "print(secretFileContentJson.get(\"secret_key\"))\n",
    "print(secretFileContentJson.get(\"self_user_id\"))\n"
   ]
  },
  {
   "cell_type": "code",
   "execution_count": 3,
   "metadata": {},
   "outputs": [
    {
     "name": "stdout",
     "output_type": "stream",
     "text": [
      "<Response [200]>\n",
      "{\"richMenuId\":\"richmenu-8e58acb53b9ec64d4266265ba8d022b7\"}\n"
     ]
    }
   ],
   "source": [
    "'''\n",
    "\n",
    "將先前準備的菜單設定檔，以Post消息寄發給Line\n",
    "\n",
    "    設定Line的遠端位置\n",
    "    設定消息的基本安全憑證\n",
    "    寄發消息，並取得回應之Id\n",
    "    \n",
    "\n",
    "'''\n",
    "\n",
    "import requests\n",
    "\n",
    "menuJson=json.loads(menuRawData)\n",
    "\n",
    "createMenuEndpoint = 'https://api.line.me/v2/bot/richmenu'\n",
    "createMenuRequestHeader={'Content-Type':'application/json','Authorization':'Bearer %s' % secretFileContentJson[\"channel_access_token\"]}\n",
    "\n",
    "#print(createMenuRequestHeader)\n",
    "\n",
    "lineCreateMenuResponse = requests.post(createMenuEndpoint,headers=createMenuRequestHeader,data=json.dumps(menuJson))\n",
    "\n",
    "print(lineCreateMenuResponse)\n",
    "print(lineCreateMenuResponse.text)\n"
   ]
  },
  {
   "cell_type": "code",
   "execution_count": 4,
   "metadata": {},
   "outputs": [
    {
     "name": "stdout",
     "output_type": "stream",
     "text": [
      "richmenu-8e58acb53b9ec64d4266265ba8d022b7\n",
      "https://api.line.me/v2/bot/richmenu/richmenu-8e58acb53b9ec64d4266265ba8d022b7/content\n",
      "<Response [200]>\n",
      "{}\n"
     ]
    }
   ],
   "source": [
    "'''\n",
    "\n",
    "將先前準備的菜單照片，以Post消息寄發給Line\n",
    "    取得上面設定檔的Id\n",
    "    設定Line的遠端位置\n",
    "    設定消息的基本安全憑證\n",
    "    上傳照片，並取得回傳成果\n",
    "\n",
    "'''\n",
    "\n",
    "# 取得菜單Id \n",
    "uploadRichMenuId=json.loads(lineCreateMenuResponse.text).get(\"richMenuId\")\n",
    "print(uploadRichMenuId)\n",
    "#'https://api.line.me/v2/bot/richmenu/{richMenuId}/content'\n",
    "\n",
    "# 設定Line的遠端位置\n",
    "uploadMenuEndpoint='https://api.line.me/v2/bot/richmenu/%s/content' % uploadRichMenuId\n",
    "print(uploadMenuEndpoint)\n",
    "\n",
    "# 設定消息的基本安全憑證\n",
    "uploadMenuRequestHeader={'Content-Type':'image/jpeg','Authorization':'Bearer %s' % secretFileContentJson[\"channel_access_token\"]}\n",
    "\n",
    "# 上傳照片\n",
    "uploadImageFile=open(\"buy.jpg\",'rb')\n",
    "lineUploadMenuResponse=requests.post(uploadMenuEndpoint,headers=uploadMenuRequestHeader,data=uploadImageFile)\n",
    "\n",
    "print(lineUploadMenuResponse)\n",
    "print(lineUploadMenuResponse.text)"
   ]
  },
  {
   "cell_type": "code",
   "execution_count": 3,
   "metadata": {},
   "outputs": [
    {
     "ename": "NameError",
     "evalue": "name 'lineCreateMenuResponse' is not defined",
     "output_type": "error",
     "traceback": [
      "\u001b[0;31m\u001b[0m",
      "\u001b[0;31mNameError\u001b[0mTraceback (most recent call last)",
      "\u001b[0;32m<ipython-input-3-5a236cd8463c>\u001b[0m in \u001b[0;36m<module>\u001b[0;34m\u001b[0m\n\u001b[1;32m     12\u001b[0m \u001b[0;34m\u001b[0m\u001b[0m\n\u001b[1;32m     13\u001b[0m \u001b[0;31m# 取得菜單id\u001b[0m\u001b[0;34m\u001b[0m\u001b[0;34m\u001b[0m\u001b[0;34m\u001b[0m\u001b[0m\n\u001b[0;32m---> 14\u001b[0;31m \u001b[0mlinkRichMenuId\u001b[0m\u001b[0;34m=\u001b[0m\u001b[0mjson\u001b[0m\u001b[0;34m.\u001b[0m\u001b[0mloads\u001b[0m\u001b[0;34m(\u001b[0m\u001b[0mlineCreateMenuResponse\u001b[0m\u001b[0;34m.\u001b[0m\u001b[0mtext\u001b[0m\u001b[0;34m)\u001b[0m\u001b[0;34m.\u001b[0m\u001b[0mget\u001b[0m\u001b[0;34m(\u001b[0m\u001b[0;34m\"richMenuId\"\u001b[0m\u001b[0;34m)\u001b[0m\u001b[0;34m\u001b[0m\u001b[0;34m\u001b[0m\u001b[0m\n\u001b[0m\u001b[1;32m     15\u001b[0m \u001b[0;34m\u001b[0m\u001b[0m\n\u001b[1;32m     16\u001b[0m \u001b[0;31m# 將菜單id與用戶id組合成遠端位置\u001b[0m\u001b[0;34m\u001b[0m\u001b[0;34m\u001b[0m\u001b[0;34m\u001b[0m\u001b[0m\n",
      "\u001b[0;31mNameError\u001b[0m: name 'lineCreateMenuResponse' is not defined"
     ]
    }
   ],
   "source": [
    "'''\n",
    "\n",
    "將選單綁定到特定用戶身上\n",
    "    取出上面得到的菜單Id及用戶id\n",
    "    設定Line的遠端位置\n",
    "    設定消息的基本安全憑證\n",
    "    發送消息告知\n",
    "\n",
    "'''\n",
    "\n",
    "# https://api.line.me/v2/bot/user/{userId}/richmenu/{richMenuId}\n",
    "\n",
    "# 取得菜單id\n",
    "linkRichMenuId=json.loads(lineCreateMenuResponse.text).get(\"richMenuId\")\n",
    "\n",
    "# 將菜單id與用戶id組合成遠端位置\n",
    "linkMenuEndpoint='https://api.line.me/v2/bot/user/%s/richmenu/%s' % (secretFileContentJson[\"self_user_id\"], linkRichMenuId)\n",
    "print(linkMenuEndpoint)\n",
    "\n",
    "# 設定消息基本安全憑證\n",
    "linkMenuRequestHeader={'Content-Type':'image/jpeg','Authorization':'Bearer %s' % secretFileContentJson[\"channel_access_token\"]}\n",
    "\n",
    "# 發送消息\n",
    "lineLinkMenuResponse=requests.post(linkMenuEndpoint,headers=linkMenuRequestHeader)\n",
    "print(lineLinkMenuResponse)\n",
    "print(lineLinkMenuResponse.text)"
   ]
  },
  {
   "cell_type": "code",
   "execution_count": 34,
   "metadata": {},
   "outputs": [
    {
     "name": "stdout",
     "output_type": "stream",
     "text": [
      "https://api.line.me/v2/bot/user/U32bfc6f1f273d45da9cb98a174754e75/richmenu\n",
      "<Response [200]>\n",
      "{\"richMenuId\":\"richmenu-dbaa169399998abfca2c04568295088c\"}\n"
     ]
    }
   ],
   "source": [
    "'''\n",
    "\n",
    "檢視用戶目前所綁定的菜單\n",
    "    取出用戶id\n",
    "    設定Line的遠端位置\n",
    "    設定消息的基本安全憑證\n",
    "    發送消息告知\n",
    "\n",
    "'''\n",
    "\n",
    "#  https://api.line.me/v2/bot/user/{userId}/richmenu\n",
    "\n",
    "# 取出用戶id，設定Line的遠端位置\n",
    "userMenuEndpoint='https://api.line.me/v2/bot/user/%s/richmenu' % (secretFileContentJson[\"self_user_id\"])\n",
    "print(userMenuEndpoint)\n",
    "\n",
    "# 設定消息的基本安全憑證\n",
    "userMenuRequestHeader={'Authorization':'Bearer %s' % secretFileContentJson[\"channel_access_token\"]}\n",
    "\n",
    "# 發送消息告知\n",
    "lineUserMenuResponse=requests.get(userMenuEndpoint,headers=userMenuRequestHeader)\n",
    "print(lineUserMenuResponse)\n",
    "print(lineUserMenuResponse.text)\n"
   ]
  },
  {
   "cell_type": "code",
   "execution_count": 17,
   "metadata": {},
   "outputs": [
    {
     "name": "stdout",
     "output_type": "stream",
     "text": [
      "https://api.line.me/v2/bot/user/U32bfc6f1f273d45da9cb98a174754e75/richmenu\n",
      "<Response [200]>\n",
      "{}\n"
     ]
    }
   ],
   "source": [
    "'''\n",
    "\n",
    "解除選單與特定用戶的綁定\n",
    "    取出用戶id\n",
    "    設定Line的遠端位置\n",
    "    設定消息的基本安全憑證\n",
    "    發送消息告知\n",
    "\n",
    "'''\n",
    "\n",
    "# 取出用戶id，設定Line的遠端位置\n",
    "userMenuEndpoint='https://api.line.me/v2/bot/user/%s/richmenu' % (secretFileContentJson[\"self_user_id\"])\n",
    "print(userMenuEndpoint)\n",
    "\n",
    "# 設定消息的基本安全憑證\n",
    "userMenuRequestHeader={'Authorization':'Bearer %s' % secretFileContentJson[\"channel_access_token\"]}\n",
    "\n",
    "# 發送消息告知\n",
    "lineUnregisterUserMenuResponse=requests.delete(userMenuEndpoint,headers=userMenuRequestHeader)\n",
    "print(lineUnregisterUserMenuResponse)\n",
    "print(lineUnregisterUserMenuResponse.text)"
   ]
  },
  {
   "cell_type": "code",
   "execution_count": 3,
   "metadata": {},
   "outputs": [
    {
     "ename": "NameError",
     "evalue": "name 'requests' is not defined",
     "output_type": "error",
     "traceback": [
      "\u001b[0;31m---------------------------------------------------------------------------\u001b[0m",
      "\u001b[0;31mNameError\u001b[0m                                 Traceback (most recent call last)",
      "\u001b[0;32m<ipython-input-3-5c9e96620ac3>\u001b[0m in \u001b[0;36m<module>\u001b[0;34m\u001b[0m\n\u001b[1;32m     15\u001b[0m \u001b[0;34m\u001b[0m\u001b[0m\n\u001b[1;32m     16\u001b[0m \u001b[0;31m# 發送消息告知\u001b[0m\u001b[0;34m\u001b[0m\u001b[0;34m\u001b[0m\u001b[0;34m\u001b[0m\u001b[0m\n\u001b[0;32m---> 17\u001b[0;31m \u001b[0mlineLisrMenuResponse\u001b[0m \u001b[0;34m=\u001b[0m \u001b[0mrequests\u001b[0m\u001b[0;34m.\u001b[0m\u001b[0mget\u001b[0m\u001b[0;34m(\u001b[0m\u001b[0mlistMenuEndpoint\u001b[0m\u001b[0;34m,\u001b[0m\u001b[0mheaders\u001b[0m\u001b[0;34m=\u001b[0m\u001b[0mlistMenuHeader\u001b[0m\u001b[0;34m)\u001b[0m\u001b[0;34m\u001b[0m\u001b[0;34m\u001b[0m\u001b[0m\n\u001b[0m\u001b[1;32m     18\u001b[0m \u001b[0mprint\u001b[0m\u001b[0;34m(\u001b[0m\u001b[0mlineLisrMenuResponse\u001b[0m\u001b[0;34m.\u001b[0m\u001b[0mtext\u001b[0m\u001b[0;34m)\u001b[0m\u001b[0;34m\u001b[0m\u001b[0;34m\u001b[0m\u001b[0m\n",
      "\u001b[0;31mNameError\u001b[0m: name 'requests' is not defined"
     ]
    }
   ],
   "source": [
    "'''\n",
    "\n",
    "檢視帳號內，有哪些選單\n",
    "    設定Line的遠端位置\n",
    "    設定消息的基本安全憑證\n",
    "    發送消息告知\n",
    "\n",
    "'''\n",
    "\n",
    "# 設定Line的遠端位置\n",
    "listMenuEndpoint=\"https://api.line.me/v2/bot/richmenu/list\"\n",
    "\n",
    "# 設定消息的基本安全憑證\n",
    "listMenuHeader={'Authorization':'Bearer %s' % secretFileContentJson[\"channel_access_token\"]}    \n",
    "\n",
    "# 發送消息告知\n",
    "lineLisrMenuResponse = requests.get(listMenuEndpoint,headers=listMenuHeader)\n",
    "print(lineLisrMenuResponse.text)"
   ]
  },
  {
   "cell_type": "code",
   "execution_count": null,
   "metadata": {},
   "outputs": [],
   "source": []
  }
 ],
 "metadata": {
  "kernelspec": {
   "display_name": "Python 3",
   "language": "python",
   "name": "python3"
  },
  "language_info": {
   "codemirror_mode": {
    "name": "ipython",
    "version": 3
   },
   "file_extension": ".py",
   "mimetype": "text/x-python",
   "name": "python",
   "nbconvert_exporter": "python",
   "pygments_lexer": "ipython3",
   "version": "3.7.3"
  }
 },
 "nbformat": 4,
 "nbformat_minor": 2
}
