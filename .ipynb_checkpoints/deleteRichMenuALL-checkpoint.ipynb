{
 "cells": [
  {
   "cell_type": "code",
   "execution_count": 1,
   "metadata": {},
   "outputs": [],
   "source": [
    "import json\n",
    "import requests\n",
    "\n",
    "\n",
    "with open(\"users.txt\") as f:\n",
    "#     print(type(f.readlines()[0]))\n",
    "#     print(json.loads(f.readlines()[0]))\n",
    "    for i in f.readlines():\n",
    "        user_id = json.loads(i)[\"user_id\"]\n",
    "        userMenuEndpoint='https://api.line.me/v2/bot/user/%s/richmenu' % (user_id)\n",
    "        # 設定消息的基本安全憑證\n",
    "        token = \"bpLaWwAPWJOEb8CDtSWyjD8Ptq5oj6x4sa/+KqqTbKEFU4q4iGvPUgfciddD9feO2xn4NC7naQheUvGyIAafuJhSC1leUeDgWuMczsYtpIfQXYHi3+C50TS+tD6FOlWM5QKfVrtdnOwPU/ZU/dl2HAdB04t89/1O/w1cDnyilFU=\"\n",
    "        userMenuRequestHeader={'Authorization':'Bearer %s' % token}\n",
    "        # 發送消息告知\n",
    "        lineUnregisterUserMenuResponse=requests.delete(userMenuEndpoint,headers=userMenuRequestHeader)"
   ]
  }
 ],
 "metadata": {
  "kernelspec": {
   "display_name": "Python 3",
   "language": "python",
   "name": "python3"
  },
  "language_info": {
   "codemirror_mode": {
    "name": "ipython",
    "version": 3
   },
   "file_extension": ".py",
   "mimetype": "text/x-python",
   "name": "python",
   "nbconvert_exporter": "python",
   "pygments_lexer": "ipython3",
   "version": "3.7.3"
  }
 },
 "nbformat": 4,
 "nbformat_minor": 2
}
